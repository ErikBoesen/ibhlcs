{
 "cells": [
  {
   "cell_type": "markdown",
   "metadata": {},
   "source": [
    "OS - MacOS, Windows, GNU/Linux\n",
    "* Purposes of OS:\n",
    "    * Provide a UI\n",
    "        * GUI\n",
    "        * CLI\n",
    "        * NLI - Natural Language Interface\n",
    "        * MBI - Menu-Based Interface\n",
    "    * Memory management\n",
    "        * Keeps track of secondary and primary memory\n",
    "        * Controls access to RAM\n",
    "        * Keeps track of files and file management system\n",
    "    * Peripheral management\n",
    "        * Keyboard, mouse, monitor, printer\n",
    "        * Has device drivers, interprets commands from dev.\n",
    "    * Basic security\n",
    "        * Passwords, maybe encryption\n",
    "    * Multitasking\n",
    "        * Allocate time and priority to multiple processes\n",
    "* BiOS - Basic Input/Output System"
   ]
  },
  {
   "cell_type": "code",
   "execution_count": null,
   "metadata": {},
   "outputs": [],
   "source": []
  }
 ],
 "metadata": {
  "kernelspec": {
   "display_name": "Python 3",
   "language": "python",
   "name": "python3"
  },
  "language_info": {
   "codemirror_mode": {
    "name": "ipython",
    "version": 3
   },
   "file_extension": ".py",
   "mimetype": "text/x-python",
   "name": "python",
   "nbconvert_exporter": "python",
   "pygments_lexer": "ipython3",
   "version": "3.6.2"
  }
 },
 "nbformat": 4,
 "nbformat_minor": 2
}
