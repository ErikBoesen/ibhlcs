{
 "cells": [
  {
   "cell_type": "markdown",
   "metadata": {},
   "source": [
    "# CPU block (called Motherboard outside IB)\n",
    "* Wires - \"busses\"\n",
    "    * Address & data\n",
    "* Primary memory\n",
    "    * RAM: Volatile\n",
    "    * ROM: Non-volatile\n",
    "    * Cache is part of RAM, very fast and expensive.\n",
    "        Types of cache in IB curriculum: Static RAM & Dynamic RAM.\n",
    "    * Computer stores things it will need quickly for the CPU in cache to speed up processor\n",
    "* CPU memory: Registers\n",
    "    * Memory address (MAR)\n",
    "    * Memory data (MDR)\n",
    "$ --> $$$: HDD, SSD, RAM, ROM, Cache, Registers\n",
    "Also slowest --> fastest."
   ]
  }
 ],
 "metadata": {
  "kernelspec": {
   "display_name": "Python 3",
   "language": "python",
   "name": "python3"
  },
  "language_info": {
   "codemirror_mode": {
    "name": "ipython",
    "version": 3
   },
   "file_extension": ".py",
   "mimetype": "text/x-python",
   "name": "python",
   "nbconvert_exporter": "python",
   "pygments_lexer": "ipython3",
   "version": "3.6.2"
  }
 },
 "nbformat": 4,
 "nbformat_minor": 2
}
