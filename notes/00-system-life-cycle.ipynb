{
 "cells": [
  {
   "cell_type": "markdown",
   "metadata": {},
   "source": [
    "# ADDIM\n",
    "* **Analysis:** What is the problem? Client? Definition of success?\n",
    "* **Design:** Develop Prototype\n",
    "* **Development:** Think out the code, methods, etc. Write it down.\n",
    "    * Saves time and money, helps organization, etc.\n",
    "    * So the project can be continued if you leave the company.\n",
    "    * Develop code.\n",
    "* **Implementation:** Put software into use.\n",
    "    * Beta testing: Small group checks everything working.\n",
    "* **Maintenance:** Fix bugs and other issues."
   ]
  },
  {
   "cell_type": "markdown",
   "metadata": {},
   "source": [
    "# Names for code\n",
    "Code, Source, Source code, Script, Code listing/script"
   ]
  },
  {
   "cell_type": "markdown",
   "metadata": {},
   "source": [
    "# Running java\n",
    "Java => Java Bytecode (runs on JVM)\n",
    "Compile, then execute."
   ]
  },
  {
   "cell_type": "markdown",
   "metadata": {},
   "source": [
    "# Types of Errors\n",
    "* Syntax\n",
    "* Semantic - Logic mistake; compiles and runs but doesn't do what you want it to. Not an error in the same way as the others.\n",
    "* Runtime error - While program running, eg. divide by 0.\n",
    "* Compilation error"
   ]
  }
 ],
 "metadata": {
  "kernelspec": {
   "display_name": "Python 3",
   "language": "python",
   "name": "python3"
  },
  "language_info": {
   "codemirror_mode": {
    "name": "ipython",
    "version": 3
   },
   "file_extension": ".py",
   "mimetype": "text/x-python",
   "name": "python",
   "nbconvert_exporter": "python",
   "pygments_lexer": "ipython3",
   "version": "3.6.2"
  }
 },
 "nbformat": 4,
 "nbformat_minor": 2
}
