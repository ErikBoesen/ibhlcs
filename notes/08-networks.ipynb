{
 "cells": [
  {
   "cell_type": "markdown",
   "metadata": {},
   "source": [
    "## Types of networks\n",
    "* Local Area Network (LAN) - Network inside a house or small business; small geographical location\n",
    "* Virtual Local Area Network (VLAN) - Simulates a LAN among computers which aren't geographically near each other\n",
    "* Wide Area Network (WAN) - Network for a large geographical area\n",
    "* Storage Area Network (SAN) - \"The Cloud\"\n",
    "* Wireless Local Area Network (WLAN) - WiFi\n",
    "* Internet - A network of networks, covering the whole world.\n",
    "* Extranet\n",
    "* Virtual Private Network (VPN)\n",
    "* Personal Area Network (PAN)\n",
    "* Peer-to-Peer (P2P)"
   ]
  },
  {
   "cell_type": "markdown",
   "metadata": {},
   "source": [
    "## Outline the importance of standards in the construction of networks\n",
    "* Stanards play an important role in networking\n",
    "* Without standardization it would be difficult to get different systems to interact\n",
    "* Many groups handle standardization:\n",
    "    * IEEE - Institute of Electrical and Electronic Engineers\n",
    "    * ISO - International Organization for Standardization"
   ]
  },
  {
   "cell_type": "markdown",
   "metadata": {},
   "source": [
    "## OSI Model\n",
    "* Data - Application - Network process to application\n",
    "* Data - Presentation - Presentation - Data representation and encryption\n",
    "* Data - Session - Interhost Communication\n",
    "* Segments - Transport - End-to-end Connections and Reliability\n",
    "* Packets - Network - Path Determination and Logical Addressing (IP)\n",
    "* Frames - Data link - Physical Addressing (Mac & LLC)\n",
    "* Bits - Physical - Media, Signal, and Binary Transmission"
   ]
  }
 ],
 "metadata": {
  "kernelspec": {
   "display_name": "Python 3",
   "language": "python",
   "name": "python3"
  },
  "language_info": {
   "codemirror_mode": {
    "name": "ipython",
    "version": 3
   },
   "file_extension": ".py",
   "mimetype": "text/x-python",
   "name": "python",
   "nbconvert_exporter": "python",
   "pygments_lexer": "ipython3",
   "version": "3.6.2"
  }
 },
 "nbformat": 4,
 "nbformat_minor": 2
}
