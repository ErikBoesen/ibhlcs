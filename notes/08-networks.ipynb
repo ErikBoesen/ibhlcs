{
 "cells": [
  {
   "cell_type": "markdown",
   "metadata": {},
   "source": [
    "## Types of networks\n",
    "* Local Area Network (LAN) - Network inside a house or small business; small geographical location\n",
    "* Virtual Local Area Network (VLAN) - Simulates a LAN among computers which aren't geographically near each other\n",
    "* Wide Area Network (WAN) - Network for a large geographical area\n",
    "* Storage Area Network (SAN) - \"The Cloud\"\n",
    "* Wireless Local Area Network (WLAN) - WiFi\n",
    "* Internet - A network of networks, covering the whole world.\n",
    "* Extranet\n",
    "* Virtual Private Network (VPN)\n",
    "* Personal Area Network (PAN)\n",
    "* Peer-to-Peer (P2P)"
   ]
  },
  {
   "cell_type": "markdown",
   "metadata": {},
   "source": [
    "## Outline the importance of standards in the construction of networks\n",
    "* Stanards play an important role in networking\n",
    "* Without standardization it would be difficult to get different systems to interact\n",
    "* Many groups handle standardization:\n",
    "    * IEEE - Institute of Electrical and Electronic Engineers\n",
    "    * ISO - International Organization for Standardization"
   ]
  },
  {
   "cell_type": "markdown",
   "metadata": {},
   "source": [
    "## OSI Model - Open System \n",
    "* Data - Application - The layer the user interacts with\n",
    "* Data - Presentation - Data representation and encryption\n",
    "* Data - Session - Interhost Communication\n",
    "* Segments - Transport - End-to-end Connections and Reliability\n",
    "* Packets - Network - Path Determination and Logical Addressing (IP)\n",
    "* Frames - Data link - Physical Addressing (Mac & LLC)\n",
    "* Bits - Physical - Media, Signal, and Binary Transmission\n",
    "\n",
    "### Application layer\n",
    "The layer with which the user interacts.\n",
    "\n",
    "### Presentation layer\n",
    "Translate application format to network format.\n",
    "This is where encryption occurs.\n",
    "\n",
    "### Session Layer\n",
    "Involves setup, coordination, and termination of session. Two devices communicate here.\n",
    "\n",
    "### Transport layer\n",
    "How much data to send, at what rate, where to, and where the TCP takes place\n",
    "\n",
    "### Network layer\n",
    "Router functionality\n",
    "\n",
    "### Data Link layer\n",
    "Provides node-to-node transfer, switches work on this level.\n",
    "\n",
    "### Physical layer\n",
    "Electrical and physical representation.\n",
    "\n",
    "\n",
    "### Why is the OSI 7 layer model important?\n",
    "\n",
    "> \"The purpose of the OSI reference model is to guide vendors and developers so the digital communication products and software programs they create will interoperate, and to facilitate clear comparisons among communications tools.\"\n",
    "\n",
    "Mneumonic: \"All People Seem To Need Data Processing\""
   ]
  },
  {
   "cell_type": "markdown",
   "metadata": {},
   "source": [
    "# What is a VPN?\n",
    "Tunnel to the internet through filters or firewalls."
   ]
  },
  {
   "cell_type": "markdown",
   "metadata": {},
   "source": [
    "## Types of data transferring\n",
    "* Fiber Optics\n",
    "    * Glass fibers carrying light pulses, each pulse considered a bit\n",
    "    * High speed operation: 100 MB/s Ethernet, high-speed point-to-point transmission (5GB/s)\n",
    "    * Low error rate: repeaters spaced far apart, immune to electromagnetic noise\n",
    "* Twisted Pair Copper Wire\n",
    "    * Unshielded Twisted Pair (UTP) is commonly used for compter networks within a buildings (LANs)\n",
    "    * Data rates for LANs using UTP is 10-100MB/s\n",
    "* Twisted Pair Copper Wire CAT5\n",
    "    * More twists per cm, faster.\n",
    "    * Typically preinstalled in office buildings\n",
    "* Coaxial cable\n",
    "    * This consists of solid copper core surrounded by insulation surrounded by copper shielding covered by plastic sheath\n",
    "    * Early computer networks used coax cable with bandwidth of 10MB/s but nowadays not efficient enough for modern nerworks\n",
    "* Wi-Fi\n",
    "    * Allows wireless data exchange using radio waves\n",
    "    * Current standard - 802.11 - supports 300MB/s but need all hardware to support this thus usually runs at around <=130MB/s\n",
    "    * Uses unlicensed radio spectrum\n",
    "    * LANs can be set up without cabling\n",
    "    * WiFi allows roaming between access points"
   ]
  },
  {
   "cell_type": "markdown",
   "metadata": {},
   "source": [
    "## Compression\n",
    "Makes transferring data over a network easier.\n",
    "You can also encrypt it.\n",
    "\n",
    "Types on IB:\n",
    "* Lossless - Everything is preserved. Types: PNG, ZIP, GIF\n",
    "* Lossy - Some data is lost. Types: JPG\n",
    "\n",
    "__Textbase Compression__ - Huffman Coding, 1950s\n",
    "\n",
    "ASCII - Binary Formatting of American English text\n",
    "\n",
    "a-z|A-Z|0-9\n",
    ":---:|:---:|:---:\n",
    "97-122|65-90|65-91\n",
    "\n",
    "Representing this in binary, however, is inefficient; you have to stick 0s onto the starting. This is where compression comes in.\n",
    "\n",
    "ZEEFE -> 40 bits\n",
    "110 0 0 1110 0 -> using how frequently they appear"
   ]
  }
 ],
 "metadata": {
  "kernelspec": {
   "display_name": "Python 3",
   "language": "python",
   "name": "python3"
  },
  "language_info": {
   "codemirror_mode": {
    "name": "ipython",
    "version": 3
   },
   "file_extension": ".py",
   "mimetype": "text/x-python",
   "name": "python",
   "nbconvert_exporter": "python",
   "pygments_lexer": "ipython3",
   "version": "3.6.2"
  }
 },
 "nbformat": 4,
 "nbformat_minor": 2
}
