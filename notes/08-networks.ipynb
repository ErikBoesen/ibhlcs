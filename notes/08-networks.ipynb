{
 "cells": [
  {
   "cell_type": "markdown",
   "metadata": {},
   "source": [
    "## Types of networks\n",
    "* Local Area Network (LAN) - Network inside a house or small business; small geographical location\n",
    "* Virtual Local Area Network (VLAN) - Simulates a LAN among computers which aren't geographically near each other\n",
    "* Wide Area Network (WAN) - Network for a large geographical area\n",
    "* Storage Area Network (SAN) - \"The Cloud\"\n",
    "* Wireless Local Area Network (WLAN) - WiFi\n",
    "* Internet - A network of networks, covering the whole world.\n",
    "* Extranet\n",
    "* Virtual Private Network (VPN)\n",
    "* Personal Area Network (PAN)\n",
    "* Peer-to-Peer (P2P)"
   ]
  }
 ],
 "metadata": {
  "kernelspec": {
   "display_name": "Python 3",
   "language": "python",
   "name": "python3"
  },
  "language_info": {
   "codemirror_mode": {
    "name": "ipython",
    "version": 3
   },
   "file_extension": ".py",
   "mimetype": "text/x-python",
   "name": "python",
   "nbconvert_exporter": "python",
   "pygments_lexer": "ipython3",
   "version": "3.6.2"
  }
 },
 "nbformat": 4,
 "nbformat_minor": 2
}
