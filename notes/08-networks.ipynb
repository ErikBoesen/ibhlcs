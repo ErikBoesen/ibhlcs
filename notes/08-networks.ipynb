{
 "cells": [
  {
   "cell_type": "markdown",
   "metadata": {},
   "source": [
    "## Types of networks\n",
    "* Local Area Network (LAN) - Network inside a house or small business; small geographical location\n",
    "* Virtual Local Area Network (VLAN) - Simulates a LAN among computers which aren't geographically near each other\n",
    "* Wide Area Network (WAN) - Network for a large geographical area\n",
    "* Storage Area Network (SAN) - \"The Cloud\"\n",
    "* Wireless Local Area Network (WLAN) - WiFi\n",
    "* Internet - A network of networks, covering the whole world.\n",
    "* Extranet\n",
    "* Virtual Private Network (VPN)\n",
    "* Personal Area Network (PAN)\n",
    "* Peer-to-Peer (P2P)"
   ]
  },
  {
   "cell_type": "markdown",
   "metadata": {},
   "source": [
    "## Outline the importance of standards in the construction of networks\n",
    "* Stanards play an important role in networking\n",
    "* Without standardization it would be difficult to get different systems to interact\n",
    "* Many groups handle standardization:\n",
    "    * IEEE - Institute of Electrical and Electronic Engineers\n",
    "    * ISO - International Organization for Standardization"
   ]
  },
  {
   "cell_type": "markdown",
   "metadata": {},
   "source": [
    "## OSI Model - Open System \n",
    "* Data - Application - The layer the user interacts with\n",
    "* Data - Presentation - Data representation and encryption\n",
    "* Data - Session - Interhost Communication\n",
    "* Segments - Transport - End-to-end Connections and Reliability\n",
    "* Packets - Network - Path Determination and Logical Addressing (IP)\n",
    "* Frames - Data link - Physical Addressing (Mac & LLC)\n",
    "* Bits - Physical - Media, Signal, and Binary Transmission\n",
    "\n",
    "### Application layer\n",
    "The layer with which the user interacts.\n",
    "\n",
    "### Presentation layer\n",
    "Translate application format to network format.\n",
    "This is where encryption occurs.\n",
    "\n",
    "### Session Layer\n",
    "Involves setup, coordination, and termination of session. Two devices communicate here.\n",
    "\n",
    "### Transport layer\n",
    "How much data to send, at what rate, where to, and where the TCP takes place\n",
    "\n",
    "### Network layer\n",
    "Router functionality\n",
    "\n",
    "### Data Link layer\n",
    "Provides node-to-node transfer, switches work on this level.\n",
    "\n",
    "### Physical layer\n",
    "Electrical and physical representation.\n",
    "\n",
    "\n",
    "### Why is the OSI 7 layer model important?\n",
    "\n",
    "> \"The purpose of the OSI reference model is to guide vendors and developers so the digital communication products and software programs they create will interoperate, and to facilitate clear comparisons among communications tools.\"\n",
    "\n",
    "Mneumonic: \"All People Seem To Need Data Processing\""
   ]
  },
  {
   "cell_type": "markdown",
   "metadata": {},
   "source": [
    "# What is a VPN?\n",
    "Tunnel to the internet through filters or firewalls."
   ]
  }
 ],
 "metadata": {
  "kernelspec": {
   "display_name": "Python 3",
   "language": "python",
   "name": "python3"
  },
  "language_info": {
   "codemirror_mode": {
    "name": "ipython",
    "version": 3
   },
   "file_extension": ".py",
   "mimetype": "text/x-python",
   "name": "python",
   "nbconvert_exporter": "python",
   "pygments_lexer": "ipython3",
   "version": "3.6.2"
  }
 },
 "nbformat": 4,
 "nbformat_minor": 2
}
