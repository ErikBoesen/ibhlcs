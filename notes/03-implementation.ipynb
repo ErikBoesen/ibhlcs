{
 "cells": [
  {
   "cell_type": "markdown",
   "metadata": {},
   "source": [
    "# Implementation methods\n",
    "* Direct change-over - go straight from old system to new system \"overnight.\" Will often frustrate users, but is fast. Training: Usually bring someone in.\n",
    "* Parallel running - run both systems at the same time +Gives users time to get used to new system -You will need double the IT, and people can just stay where they're comfortable. Training: generally videos.\n",
    "* Pilot running - select group of users switch over early. +Finds problems w/ only a subset of people. -Double IT.\n",
    "* Phased conversion - Gradually tweak small parts of the software. +Slow, people unlikely to get upset. -Expensive and slow. Training: videos or none at all"
   ]
  },
  {
   "cell_type": "markdown",
   "metadata": {},
   "source": [
    "* Software-as-a-Service (SaaS) - Company provides access to and maintenance of software eg. Netflix, Spotify, Adobe.\n",
    "* HR - people running computers you use.\n",
    "* Roles of computer in a network:\n",
    "    * Client\n",
    "    * Server\n",
    "        * E-mail server\n",
    "        * DNS server (keeps track of what domains correspond to what IPs)\n",
    "    * Router\n",
    "    * Firewall"
   ]
  }
 ],
 "metadata": {
  "kernelspec": {
   "display_name": "Python 3",
   "language": "python",
   "name": "python3"
  },
  "language_info": {
   "codemirror_mode": {
    "name": "ipython",
    "version": 3
   },
   "file_extension": ".py",
   "mimetype": "text/x-python",
   "name": "python",
   "nbconvert_exporter": "python",
   "pygments_lexer": "ipython3",
   "version": "3.6.2"
  }
 },
 "nbformat": 4,
 "nbformat_minor": 2
}
