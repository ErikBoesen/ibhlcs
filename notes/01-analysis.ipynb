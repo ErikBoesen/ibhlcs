{
 "cells": [
  {
   "cell_type": "markdown",
   "metadata": {},
   "source": [
    "# Feasibility Reports\n",
    "Gathering, compiling, and presenting information on whether a product can be effectively produced.\n",
    "* Economic FR - is it worth creating the software? Consider costs.\n",
    "* Environmental FR - evaluate resources and effect on planet."
   ]
  },
  {
   "cell_type": "markdown",
   "metadata": {},
   "source": [
    "## Steps\n",
    "* Identify problem - includes finding a client\n",
    "* Fact finding\n",
    "* Criteria for success - ex. interview client, research extant products, give survey, observe work environment, etc."
   ]
  }
 ],
 "metadata": {
  "kernelspec": {
   "display_name": "Python 3",
   "language": "python",
   "name": "python3"
  },
  "language_info": {
   "codemirror_mode": {
    "name": "ipython",
    "version": 3
   },
   "file_extension": ".py",
   "mimetype": "text/x-python",
   "name": "python",
   "nbconvert_exporter": "python",
   "pygments_lexer": "ipython3",
   "version": "3.6.2"
  }
 },
 "nbformat": 4,
 "nbformat_minor": 2
}
