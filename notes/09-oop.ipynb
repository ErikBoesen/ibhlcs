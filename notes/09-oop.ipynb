{
 "cells": [
  {
   "cell_type": "markdown",
   "metadata": {},
   "source": [
    "Three types of variables in this context:\n",
    "* Member variables in a class - \"Instance variables\" or \"fields\"\n",
    "* Variables in method or block of code - \"Local variables\"\n",
    "* Variables in method declarations - \"Parameters\"\n",
    "\n",
    "Field declarations are composed of three components, in order:\n",
    "1. Zero or more modifiers, such as `public` or `private`.\n",
    "    * `public` - the field is accessible from all classes\n",
    "    * `private` - the field is accessible only from this class\n",
    "2. The field's type. Primitives or reference types (strings, arrays, objects) can be used.\n",
    "3. The field's name. Rules and conventions are used for method and class names.\n",
    "\n",
    "Types of methods:\n",
    "* Return method\n",
    "* `void` method\n",
    "* Constructor method\n",
    "\n",
    "Overloading: the action of defining multiple methods with the same name but different parameters."
   ]
  }
 ],
 "metadata": {
  "kernelspec": {
   "display_name": "Python 3",
   "language": "python",
   "name": "python3"
  },
  "language_info": {
   "codemirror_mode": {
    "name": "ipython",
    "version": 3
   },
   "file_extension": ".py",
   "mimetype": "text/x-python",
   "name": "python",
   "nbconvert_exporter": "python",
   "pygments_lexer": "ipython3",
   "version": "3.6.4"
  }
 },
 "nbformat": 4,
 "nbformat_minor": 2
}
