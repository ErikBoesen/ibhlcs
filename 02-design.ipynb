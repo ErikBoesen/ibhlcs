{
 "cells": [
  {
   "cell_type": "markdown",
   "metadata": {},
   "source": [
    "# Flowcharts\n",
    "* Oval: Start/End\n",
    "* Arrow: Linear path of program\n",
    "* Parallelogram: I/O\n",
    "* Rectangle: An action or process\n",
    "* Diamond/Rhombus: Decision"
   ]
  },
  {
   "cell_type": "markdown",
   "metadata": {},
   "source": [
    "## Testing\n",
    "* Alpha testing - User Acceptance (workings), debugging\n",
    "    * Test normal, extreme, and abnormal data\n",
    "* User documentation - how to use software & hardware\n",
    "    * Help link, printed manual, link to a webpage\n",
    "* User training - teach the client how to operate soft/hardware\n",
    "    * Video tutorial, in person training"
   ]
  },
  {
   "cell_type": "markdown",
   "metadata": {},
   "source": [
    "## Issues with changing between old and new software:\n",
    "* Trouble transitioning\n",
    "* New exploits\n",
    "* Missing features\n",
    "* Compatibility issues which may arise over time\n",
    "    * OS incompatibilities?\n",
    "    * Units of measurement\n",
    "    * Currency\n",
    "    * Unicode vs. ASCII\n",
    "    * Time"
   ]
  }
 ],
 "metadata": {
  "kernelspec": {
   "display_name": "Python 3",
   "language": "python",
   "name": "python3"
  },
  "language_info": {
   "codemirror_mode": {
    "name": "ipython",
    "version": 3
   },
   "file_extension": ".py",
   "mimetype": "text/x-python",
   "name": "python",
   "nbconvert_exporter": "python",
   "pygments_lexer": "ipython3",
   "version": "3.6.2"
  }
 },
 "nbformat": 4,
 "nbformat_minor": 2
}
